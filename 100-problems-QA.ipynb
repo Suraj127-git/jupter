{
 "cells": [
  {
   "cell_type": "markdown",
   "metadata": {},
   "source": [
    "100 Question And Answer OF Pandas"
   ]
  }
 ],
 "metadata": {
  "language_info": {
   "name": "python"
  }
 },
 "nbformat": 4,
 "nbformat_minor": 2
}
